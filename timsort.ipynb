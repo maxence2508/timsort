{
 "cells": [
  {
   "cell_type": "code",
   "execution_count": 2,
   "id": "5ff173f1",
   "metadata": {},
   "outputs": [],
   "source": [
    "import pandas as pd\n",
    "import time\n",
    "import matplotlib.pyplot as plt"
   ]
  },
  {
   "cell_type": "code",
   "execution_count": 3,
   "id": "b0d68b87",
   "metadata": {},
   "outputs": [
    {
     "name": "stdout",
     "output_type": "stream",
     "text": [
      "25\n"
     ]
    }
   ],
   "source": [
    "print(25)"
   ]
  },
  {
   "cell_type": "code",
   "execution_count": 4,
   "id": "1f62fb21",
   "metadata": {},
   "outputs": [],
   "source": [
    "def load_diabetes_data(diabetic_data_path: str, ids_mapping_path: str) -> pd.DataFrame:\n",
    "    \"\"\"\n",
    "    Charge les fichiers CSV et effectue un mapping entre admission_type_id et sa description.\n",
    "\n",
    "    Args:\n",
    "        diabetic_data_path (str): Chemin du fichier diabetic_data.csv\n",
    "        ids_mapping_path (str): Chemin du fichier IDS_mapping.csv\n",
    "\n",
    "    Returns:\n",
    "        pd.DataFrame: DataFrame fusionné avec la description de l'admission_type_id\n",
    "    \"\"\"\n",
    "    # Charger les fichiers CSV\n",
    "    diabetic_data = pd.read_csv(diabetic_data_path, dtype=str)\n",
    "    ids_mapping = pd.read_csv(ids_mapping_path, dtype=str)\n",
    "\n",
    "    # Renommer la colonne pour correspondre au mapping\n",
    "    ids_mapping.rename(columns={\"admission_type_id\": \"admission_type_id\", \"description\": \"admission_type_desc\"}, inplace=True)\n",
    "\n",
    "    # Fusionner les datasets\n",
    "    merged_data = diabetic_data.merge(ids_mapping, on=\"admission_type_id\", how=\"left\")\n",
    "\n",
    "    return merged_data"
   ]
  },
  {
   "cell_type": "markdown",
   "id": "ea414e83",
   "metadata": {},
   "source": [
    "## Tri merge sort"
   ]
  },
  {
   "cell_type": "code",
   "execution_count": 5,
   "id": "fba967d6",
   "metadata": {},
   "outputs": [],
   "source": [
    "def merge_sort(arr):\n",
    "    \"\"\"\n",
    "    Trie une liste de tuples (encounter_id, time_in_hospital) en utilisant Merge Sort en place.\n",
    "\n",
    "    Args:\n",
    "        arr (list): Liste de tuples (encounter_id, time_in_hospital)\n",
    "    \"\"\"\n",
    "    if len(arr) > 1:\n",
    "        mid = len(arr) // 2\n",
    "        left_half = arr[:mid]\n",
    "        right_half = arr[mid:]\n",
    "\n",
    "        merge_sort(left_half)\n",
    "        merge_sort(right_half)\n",
    "\n",
    "        i = j = k = 0\n",
    "        while i < len(left_half) and j < len(right_half):\n",
    "            if left_half[i][1] < right_half[j][1]:  # Trie sur time_in_hospital\n",
    "                arr[k] = left_half[i]\n",
    "                i += 1\n",
    "            else:\n",
    "                arr[k] = right_half[j]\n",
    "                j += 1\n",
    "            k += 1\n",
    "\n",
    "        while i < len(left_half):\n",
    "            arr[k] = left_half[i]\n",
    "            k += 1\n",
    "            i += 1\n",
    "        while j < len(right_half):\n",
    "            arr[k] = right_half[j]\n",
    "            k += 1\n",
    "            j += 1"
   ]
  },
  {
   "cell_type": "markdown",
   "id": "3aff02a6",
   "metadata": {},
   "source": [
    "## Tri quick sort"
   ]
  },
  {
   "cell_type": "code",
   "execution_count": 6,
   "id": "1dd4105c",
   "metadata": {},
   "outputs": [],
   "source": [
    "def quick_sort(arr):\n",
    "    \"\"\"\n",
    "    Trie une liste de tuples (encounter_id, time_in_hospital) en utilisant Quick Sort et retourne une nouvelle liste triée.\n",
    "\n",
    "    Args:\n",
    "        arr (list): Liste de tuples (encounter_id, time_in_hospital)\n",
    "\n",
    "    Returns:\n",
    "        list: Liste triée\n",
    "    \"\"\"\n",
    "    if len(arr) <= 1:\n",
    "        return arr\n",
    "    pivot = arr[len(arr) // 2][1]  # Trier sur time_in_hospital\n",
    "    left = [x for x in arr if x[1] < pivot]\n",
    "    middle = [x for x in arr if x[1] == pivot]\n",
    "    right = [x for x in arr if x[1] > pivot]\n",
    "    return quick_sort(left) + middle + quick_sort(right)"
   ]
  },
  {
   "cell_type": "markdown",
   "id": "e8e38d8d",
   "metadata": {},
   "source": [
    "## Tri tim sort"
   ]
  },
  {
   "cell_type": "code",
   "execution_count": 7,
   "id": "72d907ee",
   "metadata": {},
   "outputs": [],
   "source": [
    "def insertion_sort(arr, left, right):\n",
    "    for i in range(left + 1, right + 1):\n",
    "        temp = arr[i]  # Stocker l'élément actuel (un tuple)\n",
    "        j = i - 1\n",
    "        while j >= left and arr[j][1] > temp[1]:  # Comparer selon time_in_hospital\n",
    "            arr[j + 1] = arr[j]\n",
    "            j -= 1\n",
    "        arr[j + 1] = temp  # Insérer l'élément au bon endroit\n",
    "\n",
    "\n",
    "def merge(arr, left, mid, right):\n",
    "    left_part = arr[left:mid + 1]\n",
    "    right_part = arr[mid + 1:right + 1]\n",
    "\n",
    "    i, j, k = 0, 0, left\n",
    "\n",
    "    while i < len(left_part) and j < len(right_part):\n",
    "        if left_part[i][1] <= right_part[j][1]:  # Comparaison sur time_in_hospital\n",
    "            arr[k] = left_part[i]\n",
    "            i += 1\n",
    "        else:\n",
    "            arr[k] = right_part[j]\n",
    "            j += 1\n",
    "        k += 1\n",
    "\n",
    "    while i < len(left_part):\n",
    "        arr[k] = left_part[i]\n",
    "        i += 1\n",
    "        k += 1\n",
    "\n",
    "    while j < len(right_part):\n",
    "        arr[k] = right_part[j]\n",
    "        j += 1\n",
    "        k += 1\n",
    "\n",
    "\n",
    "def tim_sort(arr, MIN_RUN):\n",
    "    n = len(arr)\n",
    "\n",
    "    for start in range(0, n, MIN_RUN):\n",
    "        end = min(start + MIN_RUN - 1, n - 1)\n",
    "        insertion_sort(arr, start, end)\n",
    "\n",
    "    size = MIN_RUN\n",
    "    while size < n:\n",
    "        for left in range(0, n, 2 * size):\n",
    "            mid = min(left + size - 1, n - 1)\n",
    "            right = min(left + 2 * size - 1, n - 1)\n",
    "            if mid < right:\n",
    "                merge(arr, left, mid, right)\n",
    "        size *= 2\n",
    "\n",
    "    return arr"
   ]
  },
  {
   "cell_type": "code",
   "execution_count": 13,
   "id": "19a79db0",
   "metadata": {},
   "outputs": [
    {
     "name": "stdout",
     "output_type": "stream",
     "text": [
      "Les 5 derniers éléments triés (Merge Sort) : [('1810752', 14), ('1810752', 14), ('927786', 14), ('927786', 14), ('927786', 14)]\n",
      "Les 5 derniers éléments triés (Quick Sort) : [('443811536', 14), ('443811536', 14), ('443842022', 14), ('443842022', 14), ('443842022', 14)]\n",
      "Les 5 derniers éléments triés (Tim Sort) : [('443811536', 14), ('443811536', 14), ('443842022', 14), ('443842022', 14), ('443842022', 14)]\n",
      "Temps d'exécution de Merge Sort : 0.926164 secondes\n",
      "Temps d'exécution de Quick Sort : 0.180686 secondes\n",
      "Temps d'exécution de Tim Sort : 0.814957 secondes\n"
     ]
    }
   ],
   "source": [
    "# Paramètres\n",
    "MIN_RUN = 10\n",
    "\n",
    "# Charger les données\n",
    "df = load_diabetes_data(\n",
    "    \"diabetes+130-us+hospitals+for+years+1999-2008/diabetic_data.csv\",\n",
    "    \"diabetes+130-us+hospitals+for+years+1999-2008/IDS_mapping.csv\"\n",
    ")\n",
    "\n",
    "# Convertir la colonne time_in_hospital en int\n",
    "df[\"time_in_hospital\"] = df[\"time_in_hospital\"].astype(int)\n",
    "\n",
    "# Créer une liste de tuples (encounter_id, time_in_hospital) pour conserver les ID\n",
    "encounter_time_list = list(zip(df[\"encounter_id\"], df[\"time_in_hospital\"]))\n",
    "\n",
    "# Merge Sort (modifie la liste en place)\n",
    "sorted_merge = encounter_time_list.copy()\n",
    "start_time = time.time()\n",
    "merge_sort(sorted_merge)\n",
    "merge_sort_time = time.time() - start_time\n",
    "\n",
    "# Quick Sort (retourne une nouvelle liste triée)\n",
    "start_time = time.time()\n",
    "sorted_quick = quick_sort(encounter_time_list)\n",
    "quick_sort_time = time.time() - start_time\n",
    "\n",
    "# Tim Sort\n",
    "sorted_tim = encounter_time_list.copy()\n",
    "start_time = time.time()\n",
    "sorted_tim = tim_sort(sorted_tim, MIN_RUN)\n",
    "tim_sort_time = time.time() - start_time\n",
    "\n",
    "# Afficher les 5 derniers éléments triés\n",
    "print(\"Les 5 derniers éléments triés (Merge Sort) :\", sorted_merge[-5:])\n",
    "print(\"Les 5 derniers éléments triés (Quick Sort) :\", sorted_quick[-5:])\n",
    "print(\"Les 5 derniers éléments triés (Tim Sort) :\", sorted_tim[-5:])\n",
    "\n",
    "# Afficher les temps d'exécution\n",
    "print(f\"Temps d'exécution de Merge Sort : {merge_sort_time:.6f} secondes\")\n",
    "print(f\"Temps d'exécution de Quick Sort : {quick_sort_time:.6f} secondes\")\n",
    "print(f\"Temps d'exécution de Tim Sort : {tim_sort_time:.6f} secondes\")"
   ]
  },
  {
   "cell_type": "code",
   "execution_count": 9,
   "id": "c9c0d643",
   "metadata": {},
   "outputs": [
    {
     "data": {
      "image/png": "[encoded data removed]",
      "text/plain": [
       "<Figure size 1000x500 with 1 Axes>"
      ]
     },
     "metadata": {},
     "output_type": "display_data"
    }
   ],
   "source": [
    "# Liste des valeurs de MIN_RUN\n",
    "min_run_values = list(range(1, 201, 10))\n",
    "tim_sort_times = []\n",
    "\n",
    "# Mesurer le temps de tri pour chaque MIN_RUN\n",
    "for min_run in min_run_values:\n",
    "    sorted_tim = encounter_time_list.copy()\n",
    "    start_time = time.time()\n",
    "    tim_sort(sorted_tim, min_run)\n",
    "    tim_sort_times.append(time.time() - start_time)\n",
    "\n",
    "# Tracer le graphe\n",
    "plt.figure(figsize=(10, 5))\n",
    "plt.plot(min_run_values, tim_sort_times, marker='o', linestyle='-', markersize=4)\n",
    "plt.xlabel(\"MIN_RUN\")\n",
    "plt.ylabel(\"Temps de tri (secondes)\")\n",
    "plt.title(\"Temps de tri de TimSort en fonction de MIN_RUN\")\n",
    "plt.grid(True)\n",
    "plt.show()"
   ]
  }
 ],
 "metadata": {
  "kernelspec": {
   "display_name": "Python 3 (ipykernel)",
   "language": "python",
   "name": "python3"
  },
  "language_info": {
   "codemirror_mode": {
    "name": "ipython",
    "version": 3
   },
   "file_extension": ".py",
   "mimetype": "text/x-python",
   "name": "python",
   "nbconvert_exporter": "python",
   "pygments_lexer": "ipython3",
   "version": "3.11.4"
  }
 },
 "nbformat": 4,
 "nbformat_minor": 5
}
